{
 "cells": [
  {
   "cell_type": "markdown",
   "metadata": {},
   "source": [
    "Primeiro, carregamos as bibliotecas aplicáveis: o pandas para manipulação de dados, o openai para a API de geração de texto e o json para manipulação de dados JSON. O PyPDF2 é usado para ler o PDF e o dotenv para carregar as variáveis de ambiente."
   ]
  },
  {
   "cell_type": "code",
   "execution_count": 3,
   "metadata": {},
   "outputs": [
    {
     "data": {
      "text/plain": [
       "True"
      ]
     },
     "execution_count": 3,
     "metadata": {},
     "output_type": "execute_result"
    }
   ],
   "source": [
    "import pandas as pd\n",
    "import requests\n",
    "from openai import OpenAI\n",
    "import os\n",
    "import PyPDF2\n",
    "from dotenv import load_dotenv\n",
    "import json\n",
    "load_dotenv()"
   ]
  },
  {
   "cell_type": "markdown",
   "metadata": {},
   "source": [
    "O arquivo .env contém a chave da API do OpenAI, que é carregada usando a biblioteca dotenv. Esse arquivo não está no repositório, mas você pode criar um arquivo .env com a chave da API do OpenAI, com o nome da variável `OPENAI_API_KEY`."
   ]
  },
  {
   "cell_type": "markdown",
   "metadata": {},
   "source": [
    "Abaixo, baixamos o arquivo do TJSP usando a biblioteca requests e o salvamos em um arquivo local. Em seguida, usamos o PyPDF2 para ler o arquivo e extrair o texto."
   ]
  },
  {
   "cell_type": "code",
   "execution_count": 4,
   "metadata": {},
   "outputs": [],
   "source": [
    "u = 'https://www.tjsp.jus.br/Download/Portal/Biblioteca/Biblioteca/Curriculum/Curriculum.pdf'\n",
    "r = requests.get(u)\n",
    "with open('Curriculum.pdf', 'wb') as f:\n",
    "  f.write(r.content)"
   ]
  },
  {
   "cell_type": "markdown",
   "metadata": {},
   "source": [
    "Esta função lê o PDF e retorna uma lista de strings, onde cada string é uma página do PDF."
   ]
  },
  {
   "cell_type": "code",
   "execution_count": 2,
   "metadata": {},
   "outputs": [
    {
     "ename": "FileNotFoundError",
     "evalue": "[Errno 2] No such file or directory: 'https://www.tjsp.jus.br/Download/Portal/Biblioteca/Biblioteca/Curriculum/Curriculum.pdf'",
     "output_type": "error",
     "traceback": [
      "\u001b[0;31m---------------------------------------------------------------------------\u001b[0m",
      "\u001b[0;31mFileNotFoundError\u001b[0m                         Traceback (most recent call last)",
      "Cell \u001b[0;32mIn[2], line 20\u001b[0m\n\u001b[1;32m     17\u001b[0m \u001b[38;5;66;03m# Usage\u001b[39;00m\n\u001b[1;32m     18\u001b[0m pdf_file \u001b[38;5;241m=\u001b[39m \u001b[38;5;124m'\u001b[39m\u001b[38;5;124mhttps://www.tjsp.jus.br/Download/Portal/Biblioteca/Biblioteca/Curriculum/Curriculum.pdf\u001b[39m\u001b[38;5;124m'\u001b[39m\n\u001b[0;32m---> 20\u001b[0m text_pages \u001b[38;5;241m=\u001b[39m \u001b[43mpdf_to_text_pages\u001b[49m\u001b[43m(\u001b[49m\u001b[43mpdf_file\u001b[49m\u001b[43m)\u001b[49m\n",
      "Cell \u001b[0;32mIn[2], line 3\u001b[0m, in \u001b[0;36mpdf_to_text_pages\u001b[0;34m(pdf_file)\u001b[0m\n\u001b[1;32m      1\u001b[0m \u001b[38;5;28;01mdef\u001b[39;00m \u001b[38;5;21mpdf_to_text_pages\u001b[39m(pdf_file):\n\u001b[1;32m      2\u001b[0m   \u001b[38;5;66;03m# Open the PDF file in read-binary mode\u001b[39;00m\n\u001b[0;32m----> 3\u001b[0m   \u001b[38;5;28;01mwith\u001b[39;00m \u001b[38;5;28;43mopen\u001b[39;49m\u001b[43m(\u001b[49m\u001b[43mpdf_file\u001b[49m\u001b[43m,\u001b[49m\u001b[43m \u001b[49m\u001b[38;5;124;43m'\u001b[39;49m\u001b[38;5;124;43mrb\u001b[39;49m\u001b[38;5;124;43m'\u001b[39;49m\u001b[43m)\u001b[49m \u001b[38;5;28;01mas\u001b[39;00m file:\n\u001b[1;32m      4\u001b[0m     \u001b[38;5;66;03m# Create a PDF file reader object\u001b[39;00m\n\u001b[1;32m      5\u001b[0m     pdf_reader \u001b[38;5;241m=\u001b[39m PyPDF2\u001b[38;5;241m.\u001b[39mPdfReader(file)\n\u001b[1;32m      7\u001b[0m     \u001b[38;5;66;03m# Initialize an empty list to store the text of each page\u001b[39;00m\n",
      "File \u001b[0;32m~/miniconda3/lib/python3.11/site-packages/IPython/core/interactiveshell.py:310\u001b[0m, in \u001b[0;36m_modified_open\u001b[0;34m(file, *args, **kwargs)\u001b[0m\n\u001b[1;32m    303\u001b[0m \u001b[38;5;28;01mif\u001b[39;00m file \u001b[38;5;129;01min\u001b[39;00m {\u001b[38;5;241m0\u001b[39m, \u001b[38;5;241m1\u001b[39m, \u001b[38;5;241m2\u001b[39m}:\n\u001b[1;32m    304\u001b[0m     \u001b[38;5;28;01mraise\u001b[39;00m \u001b[38;5;167;01mValueError\u001b[39;00m(\n\u001b[1;32m    305\u001b[0m         \u001b[38;5;124mf\u001b[39m\u001b[38;5;124m\"\u001b[39m\u001b[38;5;124mIPython won\u001b[39m\u001b[38;5;124m'\u001b[39m\u001b[38;5;124mt let you open fd=\u001b[39m\u001b[38;5;132;01m{\u001b[39;00mfile\u001b[38;5;132;01m}\u001b[39;00m\u001b[38;5;124m by default \u001b[39m\u001b[38;5;124m\"\u001b[39m\n\u001b[1;32m    306\u001b[0m         \u001b[38;5;124m\"\u001b[39m\u001b[38;5;124mas it is likely to crash IPython. If you know what you are doing, \u001b[39m\u001b[38;5;124m\"\u001b[39m\n\u001b[1;32m    307\u001b[0m         \u001b[38;5;124m\"\u001b[39m\u001b[38;5;124myou can use builtins\u001b[39m\u001b[38;5;124m'\u001b[39m\u001b[38;5;124m open.\u001b[39m\u001b[38;5;124m\"\u001b[39m\n\u001b[1;32m    308\u001b[0m     )\n\u001b[0;32m--> 310\u001b[0m \u001b[38;5;28;01mreturn\u001b[39;00m \u001b[43mio_open\u001b[49m\u001b[43m(\u001b[49m\u001b[43mfile\u001b[49m\u001b[43m,\u001b[49m\u001b[43m \u001b[49m\u001b[38;5;241;43m*\u001b[39;49m\u001b[43margs\u001b[49m\u001b[43m,\u001b[49m\u001b[43m \u001b[49m\u001b[38;5;241;43m*\u001b[39;49m\u001b[38;5;241;43m*\u001b[39;49m\u001b[43mkwargs\u001b[49m\u001b[43m)\u001b[49m\n",
      "\u001b[0;31mFileNotFoundError\u001b[0m: [Errno 2] No such file or directory: 'https://www.tjsp.jus.br/Download/Portal/Biblioteca/Biblioteca/Curriculum/Curriculum.pdf'"
     ]
    }
   ],
   "source": [
    "def pdf_to_text_pages(pdf_file):\n",
    "  # Open the PDF file in read-binary mode\n",
    "  with open(pdf_file, 'rb') as file:\n",
    "    # Create a PDF file reader object\n",
    "    pdf_reader = PyPDF2.PdfReader(file)\n",
    "\n",
    "    # Initialize an empty list to store the text of each page\n",
    "    text_pages = []\n",
    "    # Loop over the number of pages in the PDF file\n",
    "    for page_num in range(len(pdf_reader.pages)):\n",
    "      # Extract the text from each page and append it to the list\n",
    "      page = pdf_reader.pages[page_num]\n",
    "      text_pages.append(page.extract_text())\n",
    "\n",
    "  return text_pages\n",
    "\n",
    "# Usage\n",
    "pdf_file = 'Curriculum.pdf'\n",
    "\n",
    "text_pages = pdf_to_text_pages(pdf_file)\n"
   ]
  },
  {
   "cell_type": "code",
   "execution_count": 5,
   "metadata": {},
   "outputs": [
    {
     "name": "stdout",
     "output_type": "stream",
     "text": [
      "FRANCISCO CARLOS INOUYE SHINTATE  \n",
      "Nascido em Valparaíso , São Paulo, em 07.07 .1967 . Bacharel em \n",
      "Direito pela Faculdade de Direito da Universidade de São Paulo , em \n",
      "1989. Promotor Público do Ministério Públic o do Estado de São \n",
      "Paulo, de 31.10.1990  a 10.01.1991. Ingressou na Magistratura em \n",
      "11.01.1991 . Atuou em Sorocaba, Potirendaba ( São José do Rio Preto ), \n",
      "Tatuí e Capital. Juiz Substituto de 2ª Instância em 12.12 .2019 . \n",
      "Nome ado Desembargador do Tribunal de Justiça de São Paulo, em \n",
      "07.12 .2023.  \n",
      " \n",
      "\n"
     ]
    }
   ],
   "source": [
    "print(text_pages[-1])"
   ]
  },
  {
   "cell_type": "markdown",
   "metadata": {},
   "source": [
    "Agora, carregamos o motor GPT-4 da OpenAI"
   ]
  },
  {
   "cell_type": "code",
   "execution_count": 5,
   "metadata": {},
   "outputs": [],
   "source": [
    "client = OpenAI()"
   ]
  },
  {
   "cell_type": "markdown",
   "metadata": {},
   "source": [
    "O prompt abaixo é a instrução inicial passada ao modelo para que ele saiba o que estamos tentando fazer. Em seguida, passaremos o texto de cada página do PDF para o modelo, que retornará os dados estruturados para cada página."
   ]
  },
  {
   "cell_type": "code",
   "execution_count": 1,
   "metadata": {},
   "outputs": [
    {
     "name": "stdout",
     "output_type": "stream",
     "text": [
      "Você é um assistente de IA que está me ajudando a extrair dados de desembargadores do TJSP para um projeto de pesquisa. Você receberá as informações de um desembargador em linguagem natural e retornará um JSON com as informações processadas. O JSON deve conter as seguintes informações:\n",
      "\n",
      "\n",
      "{\n",
      "  \"nome\": \"nome completo do desembargador\",\n",
      "  \"data_nascimento\": \"YYYY-MM-DD\",\n",
      "  \"municipio_nascimento\": \"município de nascimento\",\n",
      "  \"estado_nascimento\": \"estado de nascimento\",\n",
      "  \"faculdade_direito\": \"nome da faculdade de direito\",\n",
      "  \"ano_formatura\": \"ano de formatura na faculdade de direito\",\n",
      "  \"data_magistratura\": \"YYYY-MM-DD (data de ingresso na magsitratura)\",\n",
      "  \"juiz_substituto_2grau\": \"sim ou não\",\n",
      "  \"data_juiz_substituto_2grau\": \"YYYY-MM-DD (data de promoção para juiz substituto de 2o grau)\",\n",
      "  \"data_promocao_desembargador\": \"YYYY-MM-DD (data de promoção para desembargador)\",\n",
      "  \"data_aposentadoria\": \"YYYY-MM-DD (data de aposentadoria)\",\n",
      "  \"data_falecimento\": \"YYYY-MM-DD (data de falecimento)\",\n",
      "  \"quinto_constitucional\": \"sim ou não\",\n",
      "  \"foi_promotor\": \"sim ou não\"\n",
      "}\n",
      "\n",
      "OBS: Os campos que não estiverem disponíveis devem ser retornados como NA.\n"
     ]
    }
   ],
   "source": [
    "# Load the prompt from the file\n",
    "with open('prompt.md', 'r') as file:\n",
    "  prompt = file.read()\n",
    "\n",
    "print(prompt)"
   ]
  },
  {
   "cell_type": "markdown",
   "metadata": {},
   "source": [
    "A função abaixo é usada para enviar uma solicitação para a API do OpenAI e retornar os dados estruturados. O resultado é salvo em um arquivo JSON, para que possamos acessá-lo posteriormente caso a API fique fora do ar. Os arquivos brutos foram colocados nos [releases]() do repositório."
   ]
  },
  {
   "cell_type": "code",
   "execution_count": null,
   "metadata": {},
   "outputs": [],
   "source": [
    "\n",
    "def pegar_texto(i_pag, text_pages):\n",
    "  # if file does not exist\n",
    "  file_name = f'json/desembargadores/pag_{str(i_pag).zfill(4)}.json'\n",
    "  if not os.path.exists(file_name):\n",
    "    completion = client.chat.completions.create(\n",
    "      model=\"gpt-4-turbo-preview\",\n",
    "      messages=[\n",
    "        {\n",
    "          \"role\": \"system\",\n",
    "          \"content\": prompt\n",
    "        },\n",
    "        {\n",
    "          \"role\": \"user\",\n",
    "          \"content\": text_pages[i_pag]\n",
    "        }\n",
    "      ],\n",
    "      temperature=0,\n",
    "      response_format={\"type\": \"json_object\"}\n",
    "    )\n",
    "    txt = completion.choices[0].message.content\n",
    "    with open(file_name, 'a') as file:\n",
    "      file.write(txt)\n",
    "  else:\n",
    "    with open(file_name, 'r') as file:\n",
    "      txt = file.read()\n",
    "  result = json.loads(txt)\n",
    "  result['page'] = i_pag+1\n",
    "  return result\n"
   ]
  },
  {
   "cell_type": "markdown",
   "metadata": {},
   "source": [
    "Aqui, rodamos a função de solicitação para cada página do PDF e salvamos os resultados em arquivos JSON. O resultado é uma lista de arquivos JSON, onde cada arquivo contém os dados estruturados de uma página do PDF."
   ]
  },
  {
   "cell_type": "code",
   "execution_count": 8,
   "metadata": {},
   "outputs": [
    {
     "name": "stdout",
     "output_type": "stream",
     "text": [
      "Pegando página: 1 de 1351...\n",
      "Pegando página: 51 de 1351...\n",
      "Pegando página: 101 de 1351...\n",
      "Pegando página: 151 de 1351...\n",
      "Pegando página: 201 de 1351...\n",
      "Pegando página: 251 de 1351...\n",
      "Pegando página: 301 de 1351...\n",
      "Pegando página: 351 de 1351...\n",
      "Pegando página: 401 de 1351...\n",
      "Pegando página: 451 de 1351...\n",
      "Pegando página: 501 de 1351...\n",
      "Pegando página: 551 de 1351...\n",
      "Pegando página: 601 de 1351...\n",
      "Pegando página: 651 de 1351...\n",
      "Pegando página: 701 de 1351...\n",
      "Pegando página: 751 de 1351...\n",
      "Pegando página: 801 de 1351...\n",
      "Pegando página: 851 de 1351...\n",
      "Pegando página: 901 de 1351...\n",
      "Pegando página: 951 de 1351...\n",
      "Pegando página: 1001 de 1351...\n",
      "Pegando página: 1051 de 1351...\n",
      "Pegando página: 1101 de 1351...\n",
      "Pegando página: 1151 de 1351...\n",
      "Pegando página: 1201 de 1351...\n",
      "Pegando página: 1251 de 1351...\n",
      "Pegando página: 1301 de 1351...\n",
      "Pegando página: 1351 de 1351...\n"
     ]
    }
   ],
   "source": [
    "lista_desemb = []\n",
    "\n",
    "for i in range(len(text_pages)):\n",
    "  if i % 50 == 0:\n",
    "    print(\"Pegando página: \" + str(i+1) + \" de \" + str(len(text_pages)) + \"...\")\n",
    "  lista_desemb.append(pegar_texto(i, text_pages))\n"
   ]
  },
  {
   "cell_type": "markdown",
   "metadata": {},
   "source": [
    "Finalmente, carregamos os arquivos JSON e os combinamos em um único DataFrame do pandas."
   ]
  },
  {
   "cell_type": "code",
   "execution_count": 9,
   "metadata": {},
   "outputs": [
    {
     "data": {
      "text/html": [
       "<div>\n",
       "<style scoped>\n",
       "    .dataframe tbody tr th:only-of-type {\n",
       "        vertical-align: middle;\n",
       "    }\n",
       "\n",
       "    .dataframe tbody tr th {\n",
       "        vertical-align: top;\n",
       "    }\n",
       "\n",
       "    .dataframe thead th {\n",
       "        text-align: right;\n",
       "    }\n",
       "</style>\n",
       "<table border=\"1\" class=\"dataframe\">\n",
       "  <thead>\n",
       "    <tr style=\"text-align: right;\">\n",
       "      <th></th>\n",
       "      <th>nome</th>\n",
       "      <th>data_nascimento</th>\n",
       "      <th>municipio_nascimento</th>\n",
       "      <th>estado_nascimento</th>\n",
       "      <th>faculdade_direito</th>\n",
       "      <th>ano_formatura</th>\n",
       "      <th>data_magistratura</th>\n",
       "      <th>juiz_substituto_2grau</th>\n",
       "      <th>data_juiz_substituto_2grau</th>\n",
       "      <th>data_promocao_desembargador</th>\n",
       "      <th>data_aposentadoria</th>\n",
       "      <th>data_falecimento</th>\n",
       "      <th>quinto_constitucional</th>\n",
       "      <th>foi_promotor</th>\n",
       "      <th>page</th>\n",
       "    </tr>\n",
       "  </thead>\n",
       "  <tbody>\n",
       "    <tr>\n",
       "      <th>0</th>\n",
       "      <td>NA</td>\n",
       "      <td>NA</td>\n",
       "      <td>NA</td>\n",
       "      <td>NA</td>\n",
       "      <td>NA</td>\n",
       "      <td>NA</td>\n",
       "      <td>NA</td>\n",
       "      <td>NA</td>\n",
       "      <td>NA</td>\n",
       "      <td>NA</td>\n",
       "      <td>NA</td>\n",
       "      <td>NA</td>\n",
       "      <td>NA</td>\n",
       "      <td>NA</td>\n",
       "      <td>1</td>\n",
       "    </tr>\n",
       "    <tr>\n",
       "      <th>1</th>\n",
       "      <td>NA</td>\n",
       "      <td>NA</td>\n",
       "      <td>NA</td>\n",
       "      <td>NA</td>\n",
       "      <td>NA</td>\n",
       "      <td>NA</td>\n",
       "      <td>NA</td>\n",
       "      <td>NA</td>\n",
       "      <td>NA</td>\n",
       "      <td>NA</td>\n",
       "      <td>NA</td>\n",
       "      <td>NA</td>\n",
       "      <td>NA</td>\n",
       "      <td>NA</td>\n",
       "      <td>2</td>\n",
       "    </tr>\n",
       "    <tr>\n",
       "      <th>2</th>\n",
       "      <td>NA</td>\n",
       "      <td>NA</td>\n",
       "      <td>NA</td>\n",
       "      <td>NA</td>\n",
       "      <td>NA</td>\n",
       "      <td>NA</td>\n",
       "      <td>NA</td>\n",
       "      <td>NA</td>\n",
       "      <td>NA</td>\n",
       "      <td>NA</td>\n",
       "      <td>NA</td>\n",
       "      <td>NA</td>\n",
       "      <td>NA</td>\n",
       "      <td>NA</td>\n",
       "      <td>3</td>\n",
       "    </tr>\n",
       "    <tr>\n",
       "      <th>3</th>\n",
       "      <td>NA</td>\n",
       "      <td>NA</td>\n",
       "      <td>NA</td>\n",
       "      <td>NA</td>\n",
       "      <td>NA</td>\n",
       "      <td>NA</td>\n",
       "      <td>NA</td>\n",
       "      <td>NA</td>\n",
       "      <td>NA</td>\n",
       "      <td>NA</td>\n",
       "      <td>NA</td>\n",
       "      <td>NA</td>\n",
       "      <td>NA</td>\n",
       "      <td>NA</td>\n",
       "      <td>4</td>\n",
       "    </tr>\n",
       "    <tr>\n",
       "      <th>4</th>\n",
       "      <td>TRISTÃO DE ALENCAR ARARIPE</td>\n",
       "      <td>1821-10-07</td>\n",
       "      <td>Icó</td>\n",
       "      <td>Ceará</td>\n",
       "      <td>São Paulo</td>\n",
       "      <td>1845</td>\n",
       "      <td>NA</td>\n",
       "      <td>NA</td>\n",
       "      <td>NA</td>\n",
       "      <td>1871-10-06</td>\n",
       "      <td>1892-01-25</td>\n",
       "      <td>1908-07-03</td>\n",
       "      <td>NA</td>\n",
       "      <td>NA</td>\n",
       "      <td>5</td>\n",
       "    </tr>\n",
       "    <tr>\n",
       "      <th>...</th>\n",
       "      <td>...</td>\n",
       "      <td>...</td>\n",
       "      <td>...</td>\n",
       "      <td>...</td>\n",
       "      <td>...</td>\n",
       "      <td>...</td>\n",
       "      <td>...</td>\n",
       "      <td>...</td>\n",
       "      <td>...</td>\n",
       "      <td>...</td>\n",
       "      <td>...</td>\n",
       "      <td>...</td>\n",
       "      <td>...</td>\n",
       "      <td>...</td>\n",
       "      <td>...</td>\n",
       "    </tr>\n",
       "    <tr>\n",
       "      <th>1346</th>\n",
       "      <td>RODOLFO PELLIZARI</td>\n",
       "      <td>1962-04-12</td>\n",
       "      <td>Araraquara</td>\n",
       "      <td>São Paulo</td>\n",
       "      <td>Faculdade de Direito de Sorocaba</td>\n",
       "      <td>1984</td>\n",
       "      <td>1990-08-24</td>\n",
       "      <td>sim</td>\n",
       "      <td>2017-02-16</td>\n",
       "      <td>2023-08-17</td>\n",
       "      <td>NA</td>\n",
       "      <td>NA</td>\n",
       "      <td>não</td>\n",
       "      <td>não</td>\n",
       "      <td>1347</td>\n",
       "    </tr>\n",
       "    <tr>\n",
       "      <th>1347</th>\n",
       "      <td>DANIELA MARIA CILENTO MORSELLO</td>\n",
       "      <td>1967-06-03</td>\n",
       "      <td>São Paulo</td>\n",
       "      <td>SP</td>\n",
       "      <td>Faculdade de Direito da Universidade de São Paulo</td>\n",
       "      <td>1989</td>\n",
       "      <td>1991-01-11</td>\n",
       "      <td>sim</td>\n",
       "      <td>2019-12-12</td>\n",
       "      <td>2023-09-21</td>\n",
       "      <td>NA</td>\n",
       "      <td>NA</td>\n",
       "      <td>não</td>\n",
       "      <td>não</td>\n",
       "      <td>1348</td>\n",
       "    </tr>\n",
       "    <tr>\n",
       "      <th>1348</th>\n",
       "      <td>EDUARDO VELHO NETO</td>\n",
       "      <td>1959-12-29</td>\n",
       "      <td>Bauru</td>\n",
       "      <td>São Paulo</td>\n",
       "      <td>Universidade Metodista de Piracicaba</td>\n",
       "      <td>1981</td>\n",
       "      <td>1985-03-22</td>\n",
       "      <td>NA</td>\n",
       "      <td>NA</td>\n",
       "      <td>2023-09-21</td>\n",
       "      <td>NA</td>\n",
       "      <td>NA</td>\n",
       "      <td>não</td>\n",
       "      <td>não</td>\n",
       "      <td>1349</td>\n",
       "    </tr>\n",
       "    <tr>\n",
       "      <th>1349</th>\n",
       "      <td>Jair de Souza</td>\n",
       "      <td>1963-11-17</td>\n",
       "      <td>São Caetano do Sul</td>\n",
       "      <td>São Paulo</td>\n",
       "      <td>Faculdade de Direito de São Bernardo do Campo</td>\n",
       "      <td>1986</td>\n",
       "      <td>1991-01-11</td>\n",
       "      <td>sim</td>\n",
       "      <td>2019-05-09</td>\n",
       "      <td>2023-09-21</td>\n",
       "      <td>NA</td>\n",
       "      <td>NA</td>\n",
       "      <td>não</td>\n",
       "      <td>não</td>\n",
       "      <td>1350</td>\n",
       "    </tr>\n",
       "    <tr>\n",
       "      <th>1350</th>\n",
       "      <td>FRANCISCO CARLOS INOUYE SHINTATE</td>\n",
       "      <td>1967-07-07</td>\n",
       "      <td>Valparaíso</td>\n",
       "      <td>São Paulo</td>\n",
       "      <td>Faculdade de Direito da Universidade de São Paulo</td>\n",
       "      <td>1989</td>\n",
       "      <td>1991-01-11</td>\n",
       "      <td>sim</td>\n",
       "      <td>2019-12-12</td>\n",
       "      <td>2023-12-07</td>\n",
       "      <td>NA</td>\n",
       "      <td>NA</td>\n",
       "      <td>não</td>\n",
       "      <td>sim</td>\n",
       "      <td>1351</td>\n",
       "    </tr>\n",
       "  </tbody>\n",
       "</table>\n",
       "<p>1351 rows × 15 columns</p>\n",
       "</div>"
      ],
      "text/plain": [
       "                                  nome data_nascimento municipio_nascimento  \\\n",
       "0                                   NA              NA                   NA   \n",
       "1                                   NA              NA                   NA   \n",
       "2                                   NA              NA                   NA   \n",
       "3                                   NA              NA                   NA   \n",
       "4           TRISTÃO DE ALENCAR ARARIPE      1821-10-07                  Icó   \n",
       "...                                ...             ...                  ...   \n",
       "1346                 RODOLFO PELLIZARI      1962-04-12           Araraquara   \n",
       "1347    DANIELA MARIA CILENTO MORSELLO      1967-06-03            São Paulo   \n",
       "1348                EDUARDO VELHO NETO      1959-12-29                Bauru   \n",
       "1349                     Jair de Souza      1963-11-17   São Caetano do Sul   \n",
       "1350  FRANCISCO CARLOS INOUYE SHINTATE      1967-07-07           Valparaíso   \n",
       "\n",
       "     estado_nascimento                                  faculdade_direito  \\\n",
       "0                   NA                                                 NA   \n",
       "1                   NA                                                 NA   \n",
       "2                   NA                                                 NA   \n",
       "3                   NA                                                 NA   \n",
       "4                Ceará                                          São Paulo   \n",
       "...                ...                                                ...   \n",
       "1346         São Paulo                   Faculdade de Direito de Sorocaba   \n",
       "1347                SP  Faculdade de Direito da Universidade de São Paulo   \n",
       "1348         São Paulo               Universidade Metodista de Piracicaba   \n",
       "1349         São Paulo      Faculdade de Direito de São Bernardo do Campo   \n",
       "1350         São Paulo  Faculdade de Direito da Universidade de São Paulo   \n",
       "\n",
       "     ano_formatura data_magistratura juiz_substituto_2grau  \\\n",
       "0               NA                NA                    NA   \n",
       "1               NA                NA                    NA   \n",
       "2               NA                NA                    NA   \n",
       "3               NA                NA                    NA   \n",
       "4             1845                NA                    NA   \n",
       "...            ...               ...                   ...   \n",
       "1346          1984        1990-08-24                   sim   \n",
       "1347          1989        1991-01-11                   sim   \n",
       "1348          1981        1985-03-22                    NA   \n",
       "1349          1986        1991-01-11                   sim   \n",
       "1350          1989        1991-01-11                   sim   \n",
       "\n",
       "     data_juiz_substituto_2grau data_promocao_desembargador  \\\n",
       "0                            NA                          NA   \n",
       "1                            NA                          NA   \n",
       "2                            NA                          NA   \n",
       "3                            NA                          NA   \n",
       "4                            NA                  1871-10-06   \n",
       "...                         ...                         ...   \n",
       "1346                 2017-02-16                  2023-08-17   \n",
       "1347                 2019-12-12                  2023-09-21   \n",
       "1348                         NA                  2023-09-21   \n",
       "1349                 2019-05-09                  2023-09-21   \n",
       "1350                 2019-12-12                  2023-12-07   \n",
       "\n",
       "     data_aposentadoria data_falecimento quinto_constitucional foi_promotor  \\\n",
       "0                    NA               NA                    NA           NA   \n",
       "1                    NA               NA                    NA           NA   \n",
       "2                    NA               NA                    NA           NA   \n",
       "3                    NA               NA                    NA           NA   \n",
       "4            1892-01-25       1908-07-03                    NA           NA   \n",
       "...                 ...              ...                   ...          ...   \n",
       "1346                 NA               NA                   não          não   \n",
       "1347                 NA               NA                   não          não   \n",
       "1348                 NA               NA                   não          não   \n",
       "1349                 NA               NA                   não          não   \n",
       "1350                 NA               NA                   não          sim   \n",
       "\n",
       "      page  \n",
       "0        1  \n",
       "1        2  \n",
       "2        3  \n",
       "3        4  \n",
       "4        5  \n",
       "...    ...  \n",
       "1346  1347  \n",
       "1347  1348  \n",
       "1348  1349  \n",
       "1349  1350  \n",
       "1350  1351  \n",
       "\n",
       "[1351 rows x 15 columns]"
      ]
     },
     "execution_count": 9,
     "metadata": {},
     "output_type": "execute_result"
    }
   ],
   "source": [
    "df = pd.DataFrame(lista_desemb)\n",
    "df"
   ]
  },
  {
   "cell_type": "markdown",
   "metadata": {},
   "source": [
    "Agora, exportamos o DataFrame para um arquivo parquet, que pode ser usado para análise posterior."
   ]
  },
  {
   "cell_type": "code",
   "execution_count": 10,
   "metadata": {},
   "outputs": [],
   "source": [
    "df.to_parquet('parquet/desembargadores.parquet')"
   ]
  },
  {
   "cell_type": "markdown",
   "metadata": {},
   "source": [
    "O próximo passo é realizar a limpeza da base, que fazemos no script `02-limpeza.r`, na linguagem R."
   ]
  }
 ],
 "metadata": {
  "kernelspec": {
   "display_name": "Python 3",
   "language": "python",
   "name": "python3"
  },
  "language_info": {
   "codemirror_mode": {
    "name": "ipython",
    "version": 3
   },
   "file_extension": ".py",
   "mimetype": "text/x-python",
   "name": "python",
   "nbconvert_exporter": "python",
   "pygments_lexer": "ipython3",
   "version": "3.11.5"
  }
 },
 "nbformat": 4,
 "nbformat_minor": 2
}
